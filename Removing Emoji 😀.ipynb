{
 "cells": [
  {
   "cell_type": "markdown",
   "metadata": {},
   "source": [
    "# Removing Emoji from the text"
   ]
  },
  {
   "cell_type": "code",
   "execution_count": 8,
   "metadata": {},
   "outputs": [
    {
     "name": "stdout",
     "output_type": "stream",
     "text": [
      "We created a scale for asking 😕 “How do you feel?”: 😄😀🙂☹️😴❓\n",
      "We created a scale for asking  How do you feel?: \n"
     ]
    }
   ],
   "source": [
    "text=\"We created a scale for asking 😕 “How do you feel?”: 😄😀🙂☹️😴❓\"\n",
    "new_text=text.encode(\"ascii\",\"ignore\").decode(\"ascii\")\n",
    "\n",
    "print(text + \"\\n\" + new_text)"
   ]
  }
 ],
 "metadata": {
  "kernelspec": {
   "display_name": "Python 3",
   "language": "python",
   "name": "python3"
  },
  "language_info": {
   "codemirror_mode": {
    "name": "ipython",
    "version": 3
   },
   "file_extension": ".py",
   "mimetype": "text/x-python",
   "name": "python",
   "nbconvert_exporter": "python",
   "pygments_lexer": "ipython3",
   "version": "3.7.4"
  }
 },
 "nbformat": 4,
 "nbformat_minor": 2
}

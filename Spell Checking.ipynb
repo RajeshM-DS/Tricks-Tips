{
 "cells": [
  {
   "cell_type": "markdown",
   "metadata": {},
   "source": [
    "Correct the spelling of the sentence using TextBlob"
   ]
  },
  {
   "cell_type": "code",
   "execution_count": 1,
   "metadata": {},
   "outputs": [],
   "source": [
    "from textblob import TextBlob"
   ]
  },
  {
   "cell_type": "code",
   "execution_count": 2,
   "metadata": {},
   "outputs": [],
   "source": [
    "def checking_spell(sent):\n",
    "    txt=TextBlob(sent)\n",
    "    new=txt.correct()\n",
    "    print(\"Your input sentence --> \",sent)\n",
    "    print(\"Your corrected sentence --> \",new)    "
   ]
  },
  {
   "cell_type": "code",
   "execution_count": 3,
   "metadata": {},
   "outputs": [
    {
     "name": "stdout",
     "output_type": "stream",
     "text": [
      "Your input sentence -->  i m joig to lern Machie leang\n",
      "Your corrected sentence -->  i m join to learn Machine lean\n"
     ]
    }
   ],
   "source": [
    "checking_spell(\"i m joig to lern Machie leang\")"
   ]
  },
  {
   "cell_type": "code",
   "execution_count": 8,
   "metadata": {},
   "outputs": [
    {
     "name": "stdout",
     "output_type": "stream",
     "text": [
      "Your input sentence -->  provide yur resme please\n",
      "Your corrected sentence -->  provide your resume please\n"
     ]
    }
   ],
   "source": [
    "checking_spell(\"provide yur resme please\")"
   ]
  },
  {
   "cell_type": "code",
   "execution_count": null,
   "metadata": {},
   "outputs": [],
   "source": []
  }
 ],
 "metadata": {
  "kernelspec": {
   "display_name": "Python 3",
   "language": "python",
   "name": "python3"
  },
  "language_info": {
   "codemirror_mode": {
    "name": "ipython",
    "version": 3
   },
   "file_extension": ".py",
   "mimetype": "text/x-python",
   "name": "python",
   "nbconvert_exporter": "python",
   "pygments_lexer": "ipython3",
   "version": "3.7.4"
  }
 },
 "nbformat": 4,
 "nbformat_minor": 2
}
